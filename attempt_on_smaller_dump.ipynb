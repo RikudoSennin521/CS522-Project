{
 "cells": [
  {
   "cell_type": "code",
   "execution_count": 16,
   "id": "d17ae234",
   "metadata": {},
   "outputs": [],
   "source": [
    "# extracts all links -> includes | and - \n",
    "import bz2 \n",
    "import re \n",
    "import xml.etree.ElementTree as ET\n",
    "from collections import defaultdict\n"
   ]
  },
  {
   "cell_type": "code",
   "execution_count": 17,
   "id": "e1afea7a",
   "metadata": {},
   "outputs": [],
   "source": [
    "start = '<page>'\n",
    "stop = '</page>'"
   ]
  },
  {
   "cell_type": "code",
   "execution_count": 18,
   "id": "e13d16d0",
   "metadata": {},
   "outputs": [],
   "source": [
    "G = defaultdict(list)"
   ]
  },
  {
   "cell_type": "code",
   "execution_count": 19,
   "id": "13d3a109",
   "metadata": {},
   "outputs": [],
   "source": [
    "def get_links(node): \n",
    "    outlinks = []\n",
    "    direct_links = []\n",
    "    for ch in node: \n",
    "        #if ch.tag == 'redirect': \n",
    "        #    outlinks.append(ch.attrib['title'])\n",
    "        if ch.tag == 'revision':\n",
    "            for gch in ch:\n",
    "                if gch.tag == 'text': \n",
    "                    link_text = gch.text\n",
    "                    direct_links_brackets = re.findall(r'\\[[- |\\w]*?\\]', link_text)\n",
    "                    direct_links = [rem_bracket(x) for x in direct_links_brackets]\n",
    "    outlinks = outlinks + direct_links\n",
    "    for i in range(len(outlinks)):\n",
    "        if '|' in outlinks[i]: \n",
    "            splits = list(outlinks[i].split('|'))\n",
    "            outlinks[i] = splits[0]\n",
    "    return outlinks"
   ]
  },
  {
   "cell_type": "code",
   "execution_count": 20,
   "id": "510b341f",
   "metadata": {},
   "outputs": [],
   "source": [
    "def rem_bracket(ss): \n",
    "    s = ss\n",
    "    while(s[0] == '['):\n",
    "        ns = s[1:]\n",
    "        s = ns\n",
    "    while(s[-1] == ']'):\n",
    "        ns = s[:-1]\n",
    "        s = ns\n",
    "    return s\n"
   ]
  },
  {
   "cell_type": "code",
   "execution_count": 21,
   "id": "de3a4754",
   "metadata": {},
   "outputs": [
    {
     "name": "stdout",
     "output_type": "stream",
     "text": [
      "1\n",
      "2\n",
      "3\n",
      "4\n",
      "5\n",
      "6\n",
      "7\n",
      "8\n",
      "9\n",
      "10\n",
      "11\n"
     ]
    }
   ],
   "source": [
    "pages = []\n",
    "ct = 0 \n",
    "page = ''\n",
    "for line in  bz2.open('wiki1.bz2',mode = 'rt', encoding = 'utf-8'):\n",
    "    if ct > 10: break\n",
    "    text = line.rstrip('\\n')\n",
    "    #print(text)\n",
    "    if start in text: page = '' + start;ct += 1; print(ct); continue\n",
    "    if stop in text: page += stop ;pages.append(page); page = ''\n",
    "    page += text\n",
    "    #print(ct)\n",
    "    #ct += 1\n",
    "\n",
    "#print(pages)"
   ]
  },
  {
   "cell_type": "code",
   "execution_count": 22,
   "id": "d0ec6981",
   "metadata": {},
   "outputs": [
    {
     "name": "stdout",
     "output_type": "stream",
     "text": [
      "page 1\n",
      "page 2\n",
      "page 3\n",
      "page 4\n",
      "page 5\n",
      "page 6\n",
      "page 7\n",
      "page 8\n",
      "page 9\n",
      "page 10\n"
     ]
    }
   ],
   "source": [
    "ct_page = 0\n",
    "for page in pages:\n",
    "    ct_page += 1; print('page', ct_page)\n",
    "    root = ET.fromstring(page)\n",
    "    page_links = get_links(root)\n",
    "    G[root[0].text] = page_links\n"
   ]
  },
  {
   "cell_type": "code",
   "execution_count": 23,
   "id": "227e729f",
   "metadata": {},
   "outputs": [
    {
     "name": "stdout",
     "output_type": "stream",
     "text": [
      "defaultdict(<class 'list'>, {'AccessibleComputing': ['Computer accessibility'], 'Anarchism': ['political philosophy', 'Political movement', 'authority', 'institutions', 'coercion', 'Social hierarchy', 'Government', 'capitalism', 'Stateless society', 'left-wing', 'Far-left politics', 'political spectrum', 'libertarian Marxism', 'libertarian', 'libertarian socialism', 'socialist movement', 'Humans', 'society', 'realm', 'empire', 'scepticism', 'Age of Enlightenment', 'emancipation', 'anarchist schools of thought', 'Paris Commune', 'Russian Civil War', 'Spanish Civil War', 'classical era of anarchism', 'anti-capitalist', 'anti-war', 'anti-globalisation', 'diversity of tactics', 'Wilhelm Weitling', '-ism', 'anarchy', 'French Revolution', 'William Godwin', 'Wilhelm Weitling', 'Pierre-Joseph Proudhon', 'libertarianism', 'individualistic', 'free-market', 'free-market anarchism', 'New Left', 'libertarian Marxists', 'authoritarian socialists', 'vanguard party', 'cultural liberals', 'civil liberties', 'libertarian socialist', 'socialism', 'anti-authoritarian', 'socialist movement', 'Daniel Guérin', 'libertarian socialism', 'Noam Chomsky', 'libertarian Marxism', 'libertarian', 'socialism', 'liberalism', 'anarcho-capitalism', 'authoritarian communism', 'state socialism', 'i', 'Jeremy Jennings', 'i', 'anarcho-capitalism', 'Nicolas Walter', 'socialist traditions', 'Mikhail Bakunin', 'Anti-statism', 'authority', 'hierarchical organisation', 'Anarchism and capitalism', 'Anarchism and nationalism', 'institution', 'human relations', 'decentralisation', 'freedom', 'voluntary association', 'a posteriori', 'Zeno of Citium', 'Peter Kropotkin', 'philosophical anarchism', 'Taoism', 'Zhuang Zhou', 'Laozi', 'Stoicism', 'Aeschylus', 'Sophocles', 'Antigone', 'autonomy', 'Socrates', 'Athens', 'physis', 'Stoics', 'Middle Ages', 'Anarchism and religion', 'Sasanian Empire', 'Mazdak', 'egalitarian', 'abolition of monarchy', 'Kavad I', 'Basra', 'Renaissance', 'Reformation', 'Age of Enlightenment', 'List of revolutions and rebellions', 'French Revolution', 'Enragés', 'sans-culottes', 'William Godwin', 'philosophical anarchism', 'Max Stirner', 'Individualist anarchism', 'Pierre-Joseph Proudhon', 'globalisation', 'classical anarchism', 'Spanish Civil War', 'dictatorship of the proletariat', 'Mikhail Bakunin', 'collectivist anarchism', 'Karl Marx', 'Jura Federation', 'state socialism', 'abstentionism', 'Marxists', '1872 Hague Congress', 'Second International', 'Peter Kropotkin', 'anarcho-communism', 'Paris Commune', 'Anarchism in Argentina', 'anarcho-syndicalism', 'political violence', 'propaganda of the deed', 'Communards', 'Immigration Act of 1903', 'Illegalism', 'Revolutionary Insurgent Army of Ukraine', 'Russian Revolution', 'White movement', 'Bolshevik government', 'Kronstadt rebellion', 'Makhnovshchina', 'platformism', 'synthesis anarchism', 'Bolsheviks', 'October Revolution', 'Russian Civil War', 'communist parties', 'Industrial Workers of the World', 'Communist International', 'Confederación Nacional del Trabajo', 'Federación Anarquista Ibérica', 'Spanish anarchism', 'collectivised', 'Soviet Union', 'May Days', 'Joseph Stalin', 'World War II', 'Cold War', 'Anti-nuclear movement', 'Environmental movement', 'peace movement', 'counterculture of the 1960s', 'New Left', 'anti-capitalist reform', 'punk subculture', 'Crass', 'Sex Pistols', 'feminist', 'anarcha-feminism', 'second wave of feminism', 'Black anarchism', 'Eurocentric', 'anti-capitalist', 'anti-war', 'anti-globalisation', 'World Trade Organization', 'Group of Eight', 'World Economic Forum', 'black bloc', 'riot', 'property destruction', 'police', 'affinity group', 'security culture', '1999 Seattle WTO conference', 'Zapatista Army of National Liberation', 'Rojava', 'Permanent autonomous zone', 'Food not Bombs', 'social anarchism', 'individualist anarchism', 'negative liberty', 'positive liberty', 'social ownership', 'anarcha-feminism', 'green anarchism', 'post-anarchism', 'philosophical anarchism', 'minimal state', 'moral obligation', 'ethics', 'anti-capitalism', 'egalitarianism', 'anarcho-capitalism', 'economic libertarian', 'far-left', 'political spectrum', 'Anarchist economics', 'Anarchist law', 'anti-authoritarian', 'anti-statist', 'libertarian', 'Radical politics', 'left-wing', 'socialist', 'Collectivist anarchism', 'Anarcho-communism', 'Individualist anarchism', 'Anarcho-syndicalism', 'libertarian socialist', 'sectarianism', 'anarchism without adjectives', 'Fernando Tarrida del Mármol', 'nihilism', 'Individualist anarchism', 'social anarchism', 'Collectivist anarchism', 'Anarcho-communism', 'Anarcho-syndicalism', 'Pierre-Joseph Proudhon', 'contract', 'federation', 'monetary reform', 'revolutionary socialist', 'Mikhail Bakunin', 'collective ownership', 'means of production', 'Marxism', 'dictatorship of the proletariat', 'stateless society', 'Anarcho-communism', 'communist society', 'common ownership', 'direct democracy', 'Horizontalidad', 'voluntary association', 'worker cooperative', 'French Revolution', 'First International', 'Peter Kropotkin', 'labour syndicate', 'direct action', 'solidarity', 'individual', 'William Godwin', 'Max Stirner', 'Henry David Thoreau', 'illegalism', 'individual reclamation', 'John Zerzan', 'anarcho-primitivism', 'post-left anarchy', 'anti-globalisation movement', 'syncretic', 'anti-capitalist', 'black bloc', 'anthropology', 'history', 'anarcha-feminists', 'anarcho-communists', 'equal liberty', 'the Establishment', 'nonviolence', 'anarchism and violence', 'Leon Czolgosz', 'Assassination of William McKinley', 'William McKinley', 'terrorism', 'propaganda of the deed', 'revolution', 'Galleanists', 'judicial', 'Anarcho-pacifists', 'sabotage', 'tyrant', 'oppression', 'Emma Goldman', 'Errico Malatesta', 'necessary evil', 'strike action', 'syndicalism', 'reformist', 'capitalism', 'naturism', 'nudism', 'friendship', 'news media', 'No War but the Class War', 'Alfredo Bonanno', 'insurrectionary anarchism', 'The Invisible Committee', 'Anarchism in Canada', 'Anarchism in Greece', 'Anarchism in Mexico', 'black bloc', 'anti-fascist', 'direct action', 'hierarchy', 'horizontalism', 'grassroots', 'classical anarchists', 'Peter Kropotkin', 'Pierre-Joseph Proudhon', 'affinity group', 'Wildcat strike action', 'online', 'World Wide Web', 'Squatting', 'Temporary Autonomous Zone', 'surrealism', 'carnivalesque', 'philosophy', 'definitional concerns in anarchist theory', 'Anarchism and capitalism', 'Anarchism and nationalism', 'Anarchism and religion', 'Anarchism and communism', 'Collectivist anarchism', 'Anarchism and Marxism', 'trade unionism', 'humanism', 'God', 'enlightened self-interest', 'Veganarchism', 'civilisation', 'technology', 'anarcho-primitivism', 'Anarchism and statist democracy', 'Émile Armand', 'anarcha-feminist', 'Benjamin Tucker', 'free love', 'polyamory', 'queer anarchism', 'suffrage', 'second wave of feminism', 'third wave of feminism', 'post-structuralist', 'William Godwin', 'Political Justice', 'Max Stirner', 'The False Principle of Our Education', 'Francisco Ferrer', 'Escuela Moderna', 'class consciousness', 'Leo Tolstoy', 'Summerhill School', 'Paul Goodman', 'Herbert Read', 'Colin Ward', 'consumerism', 'sine qua non', 'Open government', 'ruling class', 'Robert Paul Wolff', 'New Apocalyptics', 'neo-romanticism', 'Leo Tolstoy', 'Herbert Read', 'Peter Kropotkin', 'Emma Goldman', 'Gustav Landauer', 'Camillo Berneri', 'neo-impressionist', 'Camille Pissarro', 'Self-governance', 'Bertrand Russell', 'p', 'anarchist federalism', 'Michael Huemer', 'Joseph Raz', 'Friedrich Engels', 'Marxism', 'Governance without government', 'List of anarchist political ideologies', 'List of books about anarchism', 'Cambridge University Press', 'New Left Review', 'Routledge', 'Rural Sociology', 'Princeton University Press', 'AK Press', 'Princeton University Press', 'Oxford University Press', 'Springer Publishing', 'Oxford University Press', 'University of North Carolina Press', 'Routledge', 'AK Press', 'Oxford University Press', 'University of California Press', 'Bloomsbury Publishing', 'Pluto Press', 'Punctum Books', 'University of Northern Iowa', 'Oxford University Press', 'Springer Publishing', 'book review', 'Cambridge University Press', 'ABC-CLIO', 'Springer Publishing', 'Anarchist Seeds Beneath the Snow', 'Liverpool Press', 'Black Rose Books', 'Springer Publishing', 'Manchester University Press', 'Oxford University Press', 'Bloomsbury Publishing', 'Ashgate Publishing', 'Harvard University Press', 'WorkingUSA', 'Springer Publishing', 'The New York Times', 'Bloomsbury Academic', 'Penguin Random House', 'Oxford University Press', 'Springer Publishing', 'Palgrave Macmillan', 'Routledge', 'SAGE Publishing', 'HarperCollins', 'Springer Publishing', 'Greenwood Publishing Group', 'Ashgate Publishing', 'Manchester University Press', 'AK Press', 'Black Rose Books', 'PM Press', 'Cambridge University Press', 'The New York Times', 'University Press of Florida', 'A Short History of Anarchism', 'Oxford University Press', 'Edinburgh University Press', 'Springer Publishing', 'Stanford University Press', 'Routledge', 'Princeton University Press', 'Oxford University Press', 'Springer Publishing', 'PM Press', 'Routledge', 'Springer Publishing', 'Springer Publishing', 'AK Press', 'Blackwell Publishing', 'Springer Publishing', 'Routledge', 'Springer Publishing', 'Springer Publishing', 'Oxford University Press', 'Springer Publishing', 'SAGE Publishing', 'Springer Publishing', 'Michigan State University Press', 'Oxford University Press', 'Stanford Encyclopedia of Philosophy', 'Stanford University', 'Encyclopædia Britannica', 'Cato Institute', 'Oxford University Press', 'Blackwell Publishing', 'Oxford University Press', 'Cambridge University Press', 'Palgrave Macmillan', 'HarperCollins', 'SUNY Press', 'Princeton University Press', 'University of California Press', 'Anarchy Archives'], 'AfghanistanHistory': ['History of Afghanistan'], 'AfghanistanGeography': ['Geography of Afghanistan'], 'AfghanistanPeople': ['Demographics of Afghanistan'], 'AfghanistanCommunications': ['Communications in Afghanistan'], 'AfghanistanTransportations': ['Transport in Afghanistan'], 'AfghanistanMilitary': ['Armed Forces of the Islamic Emirate of Afghanistan'], 'AfghanistanTransnationalIssues': ['Foreign relations of Afghanistan'], 'AssistiveTechnology': ['Assistive_technology']})\n"
     ]
    }
   ],
   "source": [
    "print(G)"
   ]
  }
 ],
 "metadata": {
  "kernelspec": {
   "display_name": "Python 3 (ipykernel)",
   "language": "python",
   "name": "python3"
  },
  "language_info": {
   "codemirror_mode": {
    "name": "ipython",
    "version": 3
   },
   "file_extension": ".py",
   "mimetype": "text/x-python",
   "name": "python",
   "nbconvert_exporter": "python",
   "pygments_lexer": "ipython3",
   "version": "3.9.13"
  }
 },
 "nbformat": 4,
 "nbformat_minor": 5
}
